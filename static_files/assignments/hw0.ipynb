{
  "cells": [
    {
      "cell_type": "markdown",
      "metadata": {
        "id": "eTS71NIi5KkH"
      },
      "source": [
        "# Devoir 1 &mdash; Algèbre linéaire et manipulation d'images sous Python\n",
        "**Échéance : 16 février 2025 &ndash; 23h59**\n",
        "<br><br>\n",
        "\n",
        "## Récupération des fichiers dans Colab"
      ]
    },
    {
      "cell_type": "code",
      "execution_count": 5,
      "metadata": {
        "id": "1im4J24r5KkO"
      },
      "outputs": [],
      "source": [
        "#\n",
        "# Exécutez cette cellule pour préparer votre environnement Colab.\n",
        "#\n",
        "%%capture\n",
        "!wget https://benhadid.github.io/m1vpo/static_files/assignments/hw0.zip\n",
        "!unzip hw0.zip\n",
        "!mv hw0/* .\n",
        "!rm -rf hw0\n",
        "!rm -rf hw0.zip"
      ]
    },
    {
      "cell_type": "markdown",
      "metadata": {
        "id": "eeDgoUd85KkQ"
      },
      "source": [
        "## Initialisation du bloc-notes"
      ]
    },
    {
      "cell_type": "code",
      "execution_count": 6,
      "metadata": {
        "id": "DWbIgqef5KkR",
        "outputId": "ac71aee0-a33a-4b15-99b5-f694faa95aad",
        "colab": {
          "base_uri": "https://localhost:8080/"
        }
      },
      "outputs": [
        {
          "output_type": "stream",
          "name": "stdout",
          "text": [
            "The autoreload extension is already loaded. To reload it, use:\n",
            "  %reload_ext autoreload\n"
          ]
        }
      ],
      "source": [
        "#Importe la fonction print_function à partir de version future de python\n",
        "from __future__ import print_function\n",
        "\n",
        "#Setup\n",
        "\n",
        "# Le module random implémente un générateur de nombres pseudo-aléatoire\n",
        "import random\n",
        "\n",
        "# Numpy est le paquetage principal utilisé pour le calcul scientifique dans Python.\n",
        "# Ce paquetage sera l'une de nos bibliothèques les plus utilisées dans ce cours\n",
        "import numpy as np\n",
        "\n",
        "\n",
        "#Importe toutes les méthodes dans les fichiers: linalg.py et imageManip.py\n",
        "from linalg import *\n",
        "from imageManip import *\n",
        "\n",
        "\n",
        "#Matplotlib est une bibliothèque de traçage(dessin) pour python\n",
        "import matplotlib.pyplot as plt\n",
        "# Le code suivant fait apparaître les figure de matplotlib en ligne dans le\n",
        "# notebook au lieu de lancer une nouvelle fenêtre.\n",
        "%matplotlib inline\n",
        "plt.rcParams['figure.figsize'] = (10.0, 8.0) # fixer les dimensions par défaut des figures\n",
        "plt.rcParams['image.interpolation'] = 'nearest'\n",
        "plt.rcParams['image.cmap'] = 'gray'\n",
        "\n",
        "\n",
        "# Quelques instructions supplémentaires pour que le notebook recharge les modules externes en python;\n",
        "# voir http://stackoverflow.com/questions/1907993/autoreload-of-modules-in-ipython\n",
        "%load_ext autoreload\n",
        "%autoreload 2\n",
        "%reload_ext autoreload"
      ]
    },
    {
      "cell_type": "markdown",
      "metadata": {
        "id": "TOlF0mb95KkS"
      },
      "source": [
        "## 1. Description\n",
        "\n",
        "Nous allons explorer dans ce devoir des notions de base d'algèbre linéaire et quelques techniques de manipulation d'images sous Python. Cela permettra de mettre tout le monde à la même page par rapport aux compétences requises pour ce module.\n",
        "\n",
        "Par ailleurs, l'autre objectif de ce devoir est de vous initier/inciter à rechercher sur la toile les fonctionnalités python susceptible de vous aider à résoudre un problème donné. Ainsi, dans de nombreuses fonctions que vous implémenterez ici, vous devez identifier / utiliser les fonctions python qui peuvent vous assister."
      ]
    },
    {
      "cell_type": "markdown",
      "metadata": {
        "tags": [],
        "id": "SY7-vkwt5KkT"
      },
      "source": [
        "## 2. Algèbre Linéaire\n",
        "Dans cette section, nous allons revoir quelques notions d'algèbre linéaire et apprendre à manipuler des vecteurs et des matrices en python à l'aide de Numpy. À la fin de cette section, vous aurez implémenté toutes les méthodes requises dans le fichier `linalg.py`."
      ]
    },
    {
      "cell_type": "markdown",
      "metadata": {
        "id": "mMHzgrKt5KkU"
      },
      "source": [
        "### Question 2.1\n",
        "En premier lieu, définissez les matrices et vecteurs suivants à l'aide de Numpy. En ce sens, cherchez sur la toile la documentation sur `np.array()`. Dans le bloc de code suivant, définissez $M$ comme une matrice $(4, 3)$, $a$ comme un vecteur ligne $(1, 3)$ et $b$ comme un vecteur colonne $(3, 1)$ :\n",
        "\n",
        "$$\n",
        "M = \\begin{bmatrix}\n",
        "1 & 2 & 3 \\\\\n",
        "4 & 5 & 6 \\\\\n",
        "7 & 8 & 9 \\\\\n",
        "10 & 11 & 12 \\end{bmatrix}\n",
        ", \\qquad\n",
        "a = \\begin{bmatrix}\n",
        "1 & 1 & 0\n",
        "\\end{bmatrix}\n",
        ", \\qquad\n",
        "b = \\begin{bmatrix}\n",
        "-1 \\\\ 2 \\\\ 5\n",
        "\\end{bmatrix}  \n",
        "$$"
      ]
    },
    {
      "cell_type": "code",
      "execution_count": 8,
      "metadata": {
        "scrolled": true,
        "id": "DJoNKdv25KkV",
        "outputId": "c9cc0e5a-1575-49c0-f529-0f2a5dbfe025",
        "colab": {
          "base_uri": "https://localhost:8080/"
        }
      },
      "outputs": [
        {
          "output_type": "stream",
          "name": "stdout",
          "text": [
            "M = \n",
            " [[ 1  4  7]\n",
            " [10  2  5]\n",
            " [ 8 11  3]\n",
            " [ 6  9 12]]\n",
            "Dimension de M :  (4, 3)\n",
            "\n",
            "a =  [[1 1 0]]\n",
            "Dimension de a :  (1, 3)\n",
            "\n",
            "b =  [[-1]\n",
            " [ 2]\n",
            " [ 5]]\n",
            "Dimension de b :  (3, 1)\n"
          ]
        }
      ],
      "source": [
        "### VOTRE CODE ICI - DEBUT (remplacez l'instruction 'pass' par votre code)\n",
        "M = np.array([[1, 4, 7],\n",
        "              [10, 2, 5],\n",
        "              [8, 11, 3],\n",
        "              [6, 9, 12]])\n",
        "\n",
        "a = np.array([[1, 1, 0]])\n",
        "\n",
        "b = np.array([[-1], [2], [5]])\n",
        "### VOTRE CODE ICI - FIN\n",
        "print(\"M = \\n\", M)\n",
        "print(\"Dimension de M : \", M.shape)\n",
        "print()\n",
        "print(\"a = \", a)\n",
        "print(\"Dimension de a : \", a.shape)\n",
        "print()\n",
        "print(\"b = \", b)\n",
        "print(\"Dimension de b : \", b.shape)"
      ]
    },
    {
      "cell_type": "markdown",
      "metadata": {
        "id": "XitkJwzA5KkV"
      },
      "source": [
        "### Question 2.2\n",
        "Implementez la méthode `dot_product()` dans `linalg.py` et vérifiez qu'elle retourne une réponse corrècte pour le produit scalaire $\\: b^T a^T$."
      ]
    },
    {
      "cell_type": "code",
      "execution_count": 13,
      "metadata": {
        "id": "XveY_vUz5KkW",
        "outputId": "3cffc2c9-6c56-4472-d862-afe456acac64",
        "colab": {
          "base_uri": "https://localhost:8080/"
        }
      },
      "outputs": [
        {
          "output_type": "stream",
          "name": "stdout",
          "text": [
            "[[1]]\n",
            "dimension :  (1, 1)\n"
          ]
        }
      ],
      "source": [
        "def dot_product(a, b):\n",
        "\n",
        "    out = None\n",
        "    ### VOTRE CODE ICI - DEBUT\n",
        "    out = np.dot(a, b)\n",
        "    ### VOTRE CODE ICI - FIN\n",
        "    return out\n",
        "\n",
        "# Nous allons tester ici votre implémentation de dot_product(). La réponse corrècte est : [[1]].\n",
        "aDotB = dot_product(a, b)\n",
        "\n",
        "\n",
        "print(aDotB)\n",
        "\n",
        "print(\"dimension : \", aDotB.shape)"
      ]
    },
    {
      "cell_type": "markdown",
      "metadata": {
        "id": "meUL5Ji95KkX"
      },
      "source": [
        "### Question 2.3\n",
        "Implémentez la méthode `complicated_matrix_function()` dans `linalg.py` et utilisez là pour calculer le produit $(b^T a^T) M a^T$\n",
        "\n",
        "NOTE IMPORTANTE : La méthode `complicated_matrix_function()` s'attend à ce que toutes les entrées soient des tableaux Numpy bidimensionnels. Ceci est nécessaire car les tableaux Numpy 2D peuvent être transposés, tandis que les tableaux 1D (c.-à-d. les vecteurs) ne peuvent pas être transposés.\n",
        "\n",
        "Pour transposer un tableau bidimensionnel `array`, vous pouvez utiliser la syntaxe `array.T`"
      ]
    },
    {
      "cell_type": "code",
      "execution_count": 14,
      "metadata": {
        "id": "CXB0zsxY5KkX",
        "outputId": "5522a4b5-3680-49b5-b2b3-6fa1aceea6b7",
        "colab": {
          "base_uri": "https://localhost:8080/"
        }
      },
      "outputs": [
        {
          "output_type": "stream",
          "name": "stdout",
          "text": [
            "[[ 5]\n",
            " [12]\n",
            " [19]\n",
            " [15]]\n",
            "\n",
            "dimension :  (4, 1)\n"
          ]
        }
      ],
      "source": [
        "# La réponse retournée doit être $[[3], [9], [15], [21]]$ de dimension (4, 1).\n",
        "ans = complicated_matrix_function(M, a, b)\n",
        "print(ans)\n",
        "print()\n",
        "print(\"dimension : \", ans.shape)"
      ]
    },
    {
      "cell_type": "code",
      "execution_count": 15,
      "metadata": {
        "id": "FWvhWEhK5KkX",
        "outputId": "164ed76f-5576-4205-f989-a97955483250",
        "colab": {
          "base_uri": "https://localhost:8080/"
        }
      },
      "outputs": [
        {
          "output_type": "stream",
          "name": "stdout",
          "text": [
            "[[ 20]\n",
            " [100]]\n",
            "\n",
            "dimension :  (2, 1)\n"
          ]
        }
      ],
      "source": [
        "M_2 = np.array(range(4)).reshape((2,2))\n",
        "a_2 = np.array([[1,1]])\n",
        "b_2 = np.array([[10, 10]]).T\n",
        "\n",
        "# La réponse retournée doit être $[[20], [100]]$ de dimension (2, 1).\n",
        "ans = complicated_matrix_function(M_2, a_2, b_2)\n",
        "print(ans)\n",
        "print()\n",
        "print(\"dimension : \", ans.shape)"
      ]
    },
    {
      "cell_type": "markdown",
      "metadata": {
        "id": "3KwqkKGa5KkY"
      },
      "source": [
        "### Question 2.4\n",
        "Implémentez les fonctions `svd()` et `get_singular_values()`. Dans `svd()`, vous devez effectuer une décomposition en valeurs singulières ([plus d'info](https://fr.wikipedia.org/wiki/D%C3%A9composition_en_valeurs_singuli%C3%A8res)) de la matrice fournie en entrée. La fonction `get_singular_values()` doit retourner les k plus grandes valeurs singulières (k est donné en paramètre lors d'appels de cette fonction)."
      ]
    },
    {
      "cell_type": "code",
      "execution_count": 16,
      "metadata": {
        "id": "nJQ5fD_V5KkY",
        "outputId": "e469ef71-3ed1-4037-8432-a8fa89169eed",
        "colab": {
          "base_uri": "https://localhost:8080/"
        }
      },
      "outputs": [
        {
          "output_type": "stream",
          "name": "stdout",
          "text": [
            "[23.44174984]\n",
            "[23.44174984  7.77749583]\n"
          ]
        }
      ],
      "source": [
        "# Renvoyons d'abord la première valeur singulière et affichons la. Elle doit être ~ 25.46.\n",
        "only_first_singular_value = get_singular_values(M, 1)\n",
        "print(only_first_singular_value)\n",
        "\n",
        "# Maintenant, Récupérons les deux premières valeurs singulières.\n",
        "# Notez que la première valeur singulière est beaucoup plus grande que la seconde.\n",
        "first_two_singular_values = get_singular_values(M, 2)\n",
        "print(first_two_singular_values)\n",
        "\n",
        "# Assurons-nous que la première valeur singulière dans les deux appels est la même.\n",
        "assert only_first_singular_value[0] == first_two_singular_values[0]"
      ]
    },
    {
      "cell_type": "markdown",
      "metadata": {
        "id": "1eVONdpT5KkY"
      },
      "source": [
        "### Question 2.5\n",
        "Implementez les méthodes `eigen_decomp()` et `get_eigen_values_and_vectors()`. Vous devez effectuer ici la décomposition en valeurs propres ([plus d'infos](https://fr.wikipedia.org/wiki/D%C3%A9composition_d%27une_matrice_en_%C3%A9l%C3%A9ments_propres)) de la matrice ci-dessous, puis retourner les k plus grandes valeurs propres et vecteurs propres associés.\n",
        "\n",
        "$$M = \\begin{bmatrix}\n",
        "1 & 2 & 3 \\\\\n",
        "4 & 5 & 6 \\\\\n",
        "7 & 8 & 9 \\end{bmatrix}\n",
        "$$\n"
      ]
    },
    {
      "cell_type": "code",
      "execution_count": 19,
      "metadata": {
        "id": "V3aM6fWT5KkZ"
      },
      "outputs": [],
      "source": [
        "# Commençons par définir la matrice  M.\n",
        "# Appuyez-vous sur votre réponse à la question 1.1 plus haut et remplacez 'pass'\n",
        "# par une instruction corrècte\n",
        "def eigen_decomp(M):\n",
        "    \"\"\"Implement eigenvalue decomposition.\n",
        "\n",
        "    (optional): You might find the `np.linalg.eig` function useful.\n",
        "\n",
        "    Args:\n",
        "        matrix: numpy matrix of shape (m, n)\n",
        "\n",
        "    Returns:\n",
        "        w: numpy array of shape (1, m) such that the column v[:,i] is the eigenvector corresponding to the eigenvalue w[i].\n",
        "        v: Matrix where every column is an eigenvector.\n",
        "    \"\"\"\n",
        "    w = None\n",
        "    v = None\n",
        "    ### VOTRE CODE ICI - DEBUT\n",
        "    # Ensure M is square before applying np.linalg.eig\n",
        "    if M.shape[0] == M.shape[1]:  # Check if M is square\n",
        "        w, v = np.linalg.eig(M)\n",
        "    else:\n",
        "        # Handle the case when M is not square, e.g., raise an error or return None\n",
        "        raise ValueError(\"The input matrix must be square for eigenvalue decomposition.\")\n",
        "        # or\n",
        "        # print(\"Warning: The input matrix is not square. Eigenvalue decomposition cannot be performed.\")\n",
        "        # return None, None\n",
        "    ### VOTRE CODE ICI - FIN\n",
        "    return w, v\n",
        "\n",
        "\n",
        "def get_eigen_values_and_vectors(M, k):\n",
        "    \"\"\"Return top k eigenvalues and eigenvectors of matrix M. By top k\n",
        "    here we mean the eigenvalues with the top ABSOLUTE values (lookup\n",
        "    np.argsort for a hint on how to do so.)\n",
        "\n",
        "    (optional): Use the `eigen_decomp(M)` function you wrote above\n",
        "    as a helper function\n",
        "\n",
        "    Args:\n",
        "        M: numpy matrix of shape (m, m).\n",
        "        k: number of eigen values and respective vectors to return.\n",
        "\n",
        "    Returns:\n",
        "        eigenvalues: list of length k containing the top k eigenvalues\n",
        "        eigenvectors: list of length k containing the top k eigenvectors\n",
        "            of shape (m,)\n",
        "    \"\"\"\n",
        "    eigenvalues = []\n",
        "    eigenvectors = []\n",
        "    ### VOTRE CODE ICI - DEBUT\n",
        "    eigenvalues, eigenvectors = eigen_decomp(M)\n",
        "\n",
        "    # Check if eigenvalue decomposition was successful\n",
        "    if eigenvalues is not None:\n",
        "        idx = np.argsort(np.abs(eigenvalues))[::-1]\n",
        "        eigenvalues = eigenvalues[idx][:k]\n",
        "        eigenvectors = eigenvectors[:, idx][:, :k]\n",
        "    ### VOTRE CODE ICI - FIN\n",
        "    return eigenvalues, eigenvectors"
      ]
    },
    {
      "cell_type": "markdown",
      "metadata": {
        "id": "McDtJXmy5KkZ"
      },
      "source": [
        "## 3. Manipulation d'images\n",
        "\n",
        "Dans cette deuxième partie, commençons par charger en mémoire quelques images afin de réaliser des opérations matricielles dessus. A la fin de cette section, vous aurez implémenté toutes les fonctions dans le fichier `imageManip.py`"
      ]
    },
    {
      "cell_type": "code",
      "execution_count": 22,
      "metadata": {
        "id": "-FM4PTU65KkZ"
      },
      "outputs": [],
      "source": [
        "# Exécutez ce code pour définir les emplacements des images que nous utiliserons.\n",
        "# Vous pouvez modifier ces chemins pour pointer vers vos propres images si vous voulez vous amuser.\n",
        "\n",
        "image1_path = r'C:\\Users\\yahia\\Downloads\\hw0\\hw0\\image1.jpg'\n",
        "image2_path = r'C:\\Users\\yahia\\Downloads\\hw0\\hw0\\image2.jpg'\n",
        "\n",
        "# Définition d'une fonction locale pour\n",
        "# l'affichage d'images dans ce notebook\n",
        "\n",
        "def display(img):\n",
        "    # Show image\n",
        "    plt.figure(figsize = (5,5))\n",
        "    plt.imshow(img)\n",
        "    plt.axis('off')\n",
        "    plt.show()"
      ]
    },
    {
      "cell_type": "markdown",
      "metadata": {
        "id": "f8nfzVK85KkZ"
      },
      "source": [
        "### Question 3.1\n",
        "Implémentez la méthode de chargement `load()` dans `imageManip.py`. Les images chargées seront utilisées dans le reste de ce notebook pour visualiser vos résultats."
      ]
    },
    {
      "cell_type": "code",
      "execution_count": 23,
      "metadata": {
        "id": "o2ro2vL85Kka",
        "outputId": "0939cc76-6514-471f-b6a4-f0c502df2e3e",
        "colab": {
          "base_uri": "https://localhost:8080/",
          "height": 364
        }
      },
      "outputs": [
        {
          "output_type": "error",
          "ename": "error",
          "evalue": "OpenCV(4.11.0) /io/opencv/modules/imgproc/src/color.cpp:199: error: (-215:Assertion failed) !_src.empty() in function 'cvtColor'\n",
          "traceback": [
            "\u001b[0;31m---------------------------------------------------------------------------\u001b[0m",
            "\u001b[0;31merror\u001b[0m                                     Traceback (most recent call last)",
            "\u001b[0;32m<ipython-input-23-08b9c4b0aed1>\u001b[0m in \u001b[0;36m<cell line: 0>\u001b[0;34m()\u001b[0m\n\u001b[0;32m----> 1\u001b[0;31m \u001b[0mimage1\u001b[0m \u001b[0;34m=\u001b[0m \u001b[0mload\u001b[0m\u001b[0;34m(\u001b[0m\u001b[0mimage1_path\u001b[0m\u001b[0;34m)\u001b[0m\u001b[0;34m\u001b[0m\u001b[0;34m\u001b[0m\u001b[0m\n\u001b[0m\u001b[1;32m      2\u001b[0m \u001b[0mimage2\u001b[0m \u001b[0;34m=\u001b[0m \u001b[0mload\u001b[0m\u001b[0;34m(\u001b[0m\u001b[0mimage2_path\u001b[0m\u001b[0;34m)\u001b[0m\u001b[0;34m\u001b[0m\u001b[0;34m\u001b[0m\u001b[0m\n\u001b[1;32m      3\u001b[0m \u001b[0;34m\u001b[0m\u001b[0m\n\u001b[1;32m      4\u001b[0m \u001b[0mdisplay\u001b[0m\u001b[0;34m(\u001b[0m\u001b[0mimage1\u001b[0m\u001b[0;34m)\u001b[0m\u001b[0;34m\u001b[0m\u001b[0;34m\u001b[0m\u001b[0m\n\u001b[1;32m      5\u001b[0m \u001b[0mdisplay\u001b[0m\u001b[0;34m(\u001b[0m\u001b[0mimage2\u001b[0m\u001b[0;34m)\u001b[0m\u001b[0;34m\u001b[0m\u001b[0;34m\u001b[0m\u001b[0m\n",
            "\u001b[0;32m/content/imageManip.py\u001b[0m in \u001b[0;36mload\u001b[0;34m(image_path)\u001b[0m\n\u001b[1;32m     23\u001b[0m     \u001b[0;31m### VOTRE CODE ICI - DEBUT\u001b[0m\u001b[0;34m\u001b[0m\u001b[0;34m\u001b[0m\u001b[0m\n\u001b[1;32m     24\u001b[0m     \u001b[0mout\u001b[0m \u001b[0;34m=\u001b[0m \u001b[0mcv2\u001b[0m\u001b[0;34m.\u001b[0m\u001b[0mimread\u001b[0m\u001b[0;34m(\u001b[0m\u001b[0mimage_path\u001b[0m\u001b[0;34m)\u001b[0m\u001b[0;34m\u001b[0m\u001b[0;34m\u001b[0m\u001b[0m\n\u001b[0;32m---> 25\u001b[0;31m     \u001b[0mout\u001b[0m \u001b[0;34m=\u001b[0m \u001b[0mcv2\u001b[0m\u001b[0;34m.\u001b[0m\u001b[0mcvtColor\u001b[0m\u001b[0;34m(\u001b[0m\u001b[0mout\u001b[0m\u001b[0;34m,\u001b[0m \u001b[0mcv2\u001b[0m\u001b[0;34m.\u001b[0m\u001b[0mCOLOR_BGR2RGB\u001b[0m\u001b[0;34m)\u001b[0m\u001b[0;34m\u001b[0m\u001b[0;34m\u001b[0m\u001b[0m\n\u001b[0m\u001b[1;32m     26\u001b[0m     \u001b[0;31m### VOTRE CODE ICI - FIN\u001b[0m\u001b[0;34m\u001b[0m\u001b[0;34m\u001b[0m\u001b[0m\n\u001b[1;32m     27\u001b[0m \u001b[0;34m\u001b[0m\u001b[0m\n",
            "\u001b[0;31merror\u001b[0m: OpenCV(4.11.0) /io/opencv/modules/imgproc/src/color.cpp:199: error: (-215:Assertion failed) !_src.empty() in function 'cvtColor'\n"
          ]
        }
      ],
      "source": [
        "image1 = load(image1_path)\n",
        "image2 = load(image2_path)\n",
        "\n",
        "display(image1)\n",
        "display(image2)"
      ]
    },
    {
      "cell_type": "markdown",
      "metadata": {
        "id": "wZkT1qE75Kka"
      },
      "source": [
        "### Question 3.2\n",
        "Implémentez la méthode `dim_image()` qui transforme une image fournie en entrée en utilisant la formule $x_n = 0.5 \\times x_p^2$ pour chaque pixel, où $x_n$ est la nouvelle valeur et $x_p$ est la valeur initiale.\n",
        "\n",
        "**Remarque :** Rappelons que les valeurs d'intensité d'une image en virgule flottante doivent être dans la plage $[0.0, 1.0]$. Ainsi, la formule ci-dessus réduira les valeurs de ces intensités et produira donc une image plus sombre."
      ]
    },
    {
      "cell_type": "code",
      "execution_count": null,
      "metadata": {
        "scrolled": true,
        "id": "jsDgV_gx5Kka"
      },
      "outputs": [],
      "source": [
        "new_image = dim_image(image1)\n",
        "display(new_image)"
      ]
    },
    {
      "cell_type": "markdown",
      "metadata": {
        "id": "cvgb4GRk5Kkb"
      },
      "source": [
        "### Question 3.3\n",
        "Implémentez la méthode `convert_to_grey_scale()` pour convertir une image en niveaux de gris (c.f. voir description de la fonction dans le fichier `imageManip.py` pour plus de détails)."
      ]
    },
    {
      "cell_type": "code",
      "execution_count": null,
      "metadata": {
        "id": "awz3ajp25Kkb"
      },
      "outputs": [],
      "source": [
        "grey_image = convert_to_grey_scale(image1)\n",
        "display(grey_image)"
      ]
    },
    {
      "cell_type": "markdown",
      "metadata": {
        "id": "cXeBI_3Q5Kkb"
      },
      "source": [
        "### Question 3.4\n",
        "\n",
        "Implémentez la méthode `rgb_exclusion()` pour décomposer une image en ces trois canaux R (rouge), G (vert), B (bleu), puis retourner une nouvelle image en excluant le canal spécifié."
      ]
    },
    {
      "cell_type": "code",
      "execution_count": null,
      "metadata": {
        "scrolled": true,
        "id": "3o_nYFIj5Kkb"
      },
      "outputs": [],
      "source": [
        "without_red = rgb_exclusion(image1, 'R')\n",
        "without_blue = rgb_exclusion(image1, 'B')\n",
        "without_green = rgb_exclusion(image1, 'G')\n",
        "\n",
        "print(\"Ci-dessous, l'image n°1 où le canal rouge a été supprimé.\")\n",
        "display(without_red)\n",
        "\n",
        "print(\"Ci-dessous, l'image n°1 où le canal vert a été supprimé.\")\n",
        "display(without_green)\n",
        "\n",
        "print(\"Ci-dessous, l'image n°1 où le canal bleu a été supprimé.\")\n",
        "display(without_blue)"
      ]
    },
    {
      "cell_type": "markdown",
      "metadata": {
        "id": "AW_bgeZF5Kkb"
      },
      "source": [
        "### Question 3.5\n",
        "Implémentez la méthode `lab_decomposition()` pour décomposer une image en ces trois canaux L*, a*, b*, puis retournez le canal spécifié ([plus d'info](https://fr.wikipedia.org/wiki/L*a*b*_CIE_1976))."
      ]
    },
    {
      "cell_type": "code",
      "execution_count": null,
      "metadata": {
        "scrolled": true,
        "id": "_LjILmT_5Kkc"
      },
      "outputs": [],
      "source": [
        "image_l = lab_decomposition(image1, 'L')\n",
        "image_a = lab_decomposition(image1, 'A')\n",
        "image_b = lab_decomposition(image1, 'B')\n",
        "\n",
        "print(\"Ci-dessous, le canal L* dans la décomposition L*a*b* de l'image n°1\")\n",
        "display(image_l)\n",
        "\n",
        "print(\"Ci-dessous, le canal a* dans la décomposition L*a*b* de l'image n°1\")\n",
        "display(image_a)\n",
        "\n",
        "print(\"Ci-dessous, le canal b* dans la décomposition L*a*b* de l'image n°1\")\n",
        "display(image_b)"
      ]
    },
    {
      "cell_type": "markdown",
      "metadata": {
        "id": "ZFgjIMF55Kkc"
      },
      "source": [
        "### Question 3.6\n",
        "Implémentez la méthode `hsv_decomposition()` pour décomposer une image en ces trois canaux H, S, V, puis retournez le canal spécifié ([plus d'info](https://fr.wikipedia.org/wiki/Teinte_Saturation_Valeur))."
      ]
    },
    {
      "cell_type": "code",
      "execution_count": null,
      "metadata": {
        "id": "jzWG-H6l5Kkc"
      },
      "outputs": [],
      "source": [
        "image_h = hsv_decomposition(image1, 'H')\n",
        "image_s = hsv_decomposition(image1, 'S')\n",
        "image_v = hsv_decomposition(image1, 'V')\n",
        "\n",
        "print(\"Ci-dessous, le canal H dans la décomposition HSV de l'image n°1\")\n",
        "display(image_h)\n",
        "\n",
        "print(\"Ci-dessous, le canal S dans la décomposition HSV de l'image n°1\")\n",
        "display(image_s)\n",
        "\n",
        "print(\"Ci-dessous, le canal V dans la décomposition HSV de l'image n°1\")\n",
        "display(image_v)"
      ]
    },
    {
      "cell_type": "markdown",
      "metadata": {
        "id": "geXkMSyI5Kkc"
      },
      "source": [
        "### Question 3.7\n",
        "Dans la méthode `mix_images()`, créez une nouvelle image constituée de la moitié gauche de l'image n°1 et la moitié droite de l'image n°2. Pour chaque image en entrée, vous devez exclure le canal spécifié.\n",
        "\n",
        "Une implémentation correcte devrait afficher la moitié gauche du Mandrill sans le canal rouge et la moitié droite de l'image des maisons sans le canal vert."
      ]
    },
    {
      "cell_type": "code",
      "execution_count": null,
      "metadata": {
        "id": "SJHELHRz5Kkd"
      },
      "outputs": [],
      "source": [
        "image_mixed = mix_images(image1, image2, channel1='R', channel2='G')\n",
        "display(image_mixed)\n",
        "\n",
        "#Test de vérification : la somme des pixels de l'image doit être ~76417.51\n",
        "np.sum(image_mixed)"
      ]
    },
    {
      "cell_type": "markdown",
      "metadata": {
        "id": "BE9QGgsa5Kkd"
      },
      "source": [
        "### Question 3.8\n",
        "\n",
        "Implémentez la fonction `mix_quadrants()` dans `imageManip.py`.\n",
        "Cette fonction prend une image et effectue une opération différente sur chacun des quatre quadrants de l'image. Ensuite, elle combine les quatre quadrants ensemble.\n",
        "\n",
        "Voici les quatre opérations que vous devez effectuer sur les 4 quadrants :\n",
        "- Quadrant supérieur gauche : supprimez le canal \"R\" à l'aide de `rgb_exclusion()`.\n",
        "- Quadrant supérieur droit : atténuez le quadrant à l'aide de `dim_image()`.\n",
        "- Quadrant inférieur gauche : éclaircissez le quadrant à l'aide de la fonction  $x_n = x_p^{0.5}$\n",
        "- Quadrant inférieur droit : supprimez le canal \"R\" à l'aide de `rgb_exclusion()`."
      ]
    },
    {
      "cell_type": "code",
      "execution_count": null,
      "metadata": {
        "id": "IXq7XdH45Kkd"
      },
      "outputs": [],
      "source": [
        "mixed_quadrants = mix_quadrants(image1)\n",
        "display(mixed_quadrants)"
      ]
    },
    {
      "cell_type": "markdown",
      "metadata": {
        "id": "DDTj3Mov5Kkd"
      },
      "source": [
        "## 4. Livrables\n",
        "### 4.1. Le code (à remettre sur [benhadid.ddns.net](https://benhadid.ddns.net/course/M1_VPO/hw0))\n",
        "\n",
        "Le fichier \"devoir1.zip\" contenant les fichiers **`linalg.py`** et **`imageManip.py`** modifiés dans les zones indiquées par `### VOTRE CODE ICI - DEBUT` et `### VOTRE CODE ICI - FIN`.\n",
        "\n",
        "**Le code sera remis <del>en classe pendant votre séance de TP</del> au serveur INGInious - <span style='color:Red'> aucun document ou code ne sera accepté si envoyé par mail ou clé USB</span>**."
      ]
    },
    {
      "cell_type": "code",
      "execution_count": 3,
      "metadata": {
        "id": "_B8BsGFt5Kke",
        "outputId": "de97f7d0-9811-4ebe-a9c3-3a544120766b",
        "colab": {
          "base_uri": "https://localhost:8080/"
        }
      },
      "outputs": [
        {
          "output_type": "stream",
          "name": "stdout",
          "text": [
            "  adding: linalg.py (deflated 72%)\n",
            "  adding: imageManip.py (deflated 75%)\n"
          ]
        }
      ],
      "source": [
        "# Exécutez cette cellule puis récupérez votre fichier \"devoir1.zip\" depuis le panneau gauche dans Colab\n",
        "# Si nécessaire, faites un 'refresh' sur le répertoire pour faire apparaître le fichier 'devoir1.zip'\n",
        "\n",
        "!zip -r ./devoir1.zip linalg.py imageManip.py"
      ]
    }
  ],
  "metadata": {
    "kernelspec": {
      "display_name": "Python 3",
      "language": "python",
      "name": "python3"
    },
    "language_info": {
      "codemirror_mode": {
        "name": "ipython",
        "version": 3
      },
      "file_extension": ".py",
      "mimetype": "text/x-python",
      "name": "python",
      "nbconvert_exporter": "python",
      "pygments_lexer": "ipython3",
      "version": "3.9.2"
    },
    "vscode": {
      "interpreter": {
        "hash": "916dbcbb3f70747c44a77c7bcd40155683ae19c65e1c03b4aa3499c5328201f1"
      }
    },
    "colab": {
      "provenance": []
    }
  },
  "nbformat": 4,
  "nbformat_minor": 0
}